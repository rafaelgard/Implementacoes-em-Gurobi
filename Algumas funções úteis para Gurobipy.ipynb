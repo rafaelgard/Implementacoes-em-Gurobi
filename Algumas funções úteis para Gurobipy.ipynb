{
 "cells": [
  {
   "cell_type": "code",
   "execution_count": null,
   "id": "c5e35f3b",
   "metadata": {},
   "outputs": [],
   "source": [
    "def imprime_resultados(modelo):\n",
    "    '''Esta função imprime os resultados do modelo. A chamada dessa função deve ficar ao final do código do modelo,\n",
    "    preferencialmente depois de modelo.optimize()'''\n",
    "    \n",
    "    m = modelo\n",
    "    print('=========================================')\n",
    "    print('Quantidade de restrições: ', m.NumConstrs)\n",
    "    print('Quantidade de variáveis: ', m.NumVars)\n",
    "    print('=========================================')\n",
    "    print('Status do modelo: ', m.Status)\n",
    "    print('=========================================')\n",
    "    print('Valor da função objetivo: ', m.ObjVal)\n",
    "    print('=========================================')\n",
    "    for v in m.getVars():\n",
    "        print('%s %g' % (v.varName, v.x))\n",
    "    print('=========================================')\n",
    "    \n",
    "    \n",
    "def salva_resultados_modelo(modelo):\n",
    "    '''Esta função salva os resultados do modelo. A chamada dessa função deve ficar ao final do código do modelo,\n",
    "    preferencialmente depois de modelo.optimize()'''\n",
    "    \n",
    "    '''Cria o dicionário para salvar os resultados'''\n",
    "    resultados = {'Tempos Máximos': [], 'Z': [], 'Tempo Computacional': [], 'Quantidade de restrições': [], 'Quantidade de variáveis': []}\n",
    "\n",
    "    #Foi criada a coluna 'Quantidade_de_drones', mas você pode modificar para qualquer outro nome de coluna ou incluir outras.\n",
    "    #Lembrando claro de sempre de adiciona-la nas linhas abaixo para ser preenchida corretamente  \n",
    "    \n",
    "    '''Salva os resultados'''\n",
    "    resultados['Tempos Máximos'].append(round(Tmax, 3))\n",
    "    resultados['Tempo Computacional'].append(round(modelo.Runtime, 3))\n",
    "    resultados['Quantidade de variáveis'].append(round(modelo.NumVars, 3))\n",
    "    resultados['Quantidade de restrições'].append(round(modelo.NumConstrs, 3))\n",
    "    \n",
    "    '''Salva os resultados gerados em um arquivo .csv'''\n",
    "    pd.DataFrame(resultados).to_csv('resultados.csv', index=False, sep=';')"
   ]
  }
 ],
 "metadata": {
  "kernelspec": {
   "display_name": "Python 3 (ipykernel)",
   "language": "python",
   "name": "python3"
  },
  "language_info": {
   "codemirror_mode": {
    "name": "ipython",
    "version": 3
   },
   "file_extension": ".py",
   "mimetype": "text/x-python",
   "name": "python",
   "nbconvert_exporter": "python",
   "pygments_lexer": "ipython3",
   "version": "3.9.7"
  }
 },
 "nbformat": 4,
 "nbformat_minor": 5
}
